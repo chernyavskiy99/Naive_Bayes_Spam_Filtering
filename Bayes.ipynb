{
 "cells": [
  {
   "cell_type": "code",
   "execution_count": 92,
   "metadata": {},
   "outputs": [],
   "source": [
    "import numpy as np\n",
    "import os\n",
    "from collections import defaultdict\n",
    "from math import log\n",
    "from sklearn.metrics import accuracy_score\n",
    "import matplotlib.pyplot as plt"
   ]
  },
  {
   "cell_type": "code",
   "execution_count": 46,
   "metadata": {},
   "outputs": [],
   "source": [
    "class Bayes:\n",
    "    def __init__(self, delta=[1, 1]):\n",
    "        self.delta = delta\n",
    "        \n",
    "    def fit(self, X, y):\n",
    "        classes, freq = defaultdict(lambda:0), defaultdict(lambda:0)\n",
    "        for i in range(len(X)):\n",
    "            feats, label = X[i], y[i]\n",
    "            classes[label] += 1\n",
    "            for feat in feats:\n",
    "                freq[label, feat] += 1\n",
    "\n",
    "        for label, feat in freq:\n",
    "            freq[label, feat] /= classes[label]\n",
    "        for c in classes:\n",
    "            classes[c] /= len(X)\n",
    "\n",
    "        self.classes = classes\n",
    "        self.freq = freq\n",
    "    \n",
    "    def predict(self, X):\n",
    "        classes, prob = self.classes, self.freq\n",
    "        y_pred = []\n",
    "        for i in range(len(X)):\n",
    "            y_pred.append(max(classes.keys(), key=lambda cl: log(classes[cl] * delta[cl]) + sum(log(prob.get((cl, x), 10**(-7))) for x in X[i])))\n",
    "        return y_pred"
   ]
  },
  {
   "cell_type": "code",
   "execution_count": 104,
   "metadata": {},
   "outputs": [],
   "source": [
    "delta_final = 1\n",
    "delta = [1, 1]\n",
    "while True:\n",
    "    total_fp = 0\n",
    "    for j in range(1, 11):\n",
    "        X_train, y_train = [], []\n",
    "        X_test, y_test = [], []\n",
    "        for i in range(1, 11):\n",
    "            folder = 'part' + str(i)\n",
    "            for filename in os.listdir(folder):\n",
    "                with open(folder + '/' + filename, 'r') as f:\n",
    "                    x = set()\n",
    "                    if 'legit' in filename:\n",
    "                        if i != j:\n",
    "                            y_train.append(0)\n",
    "                        else:\n",
    "                            y_test.append(0)\n",
    "                        for line in f:\n",
    "                            for word in line.split():\n",
    "                                x.add(word)\n",
    "                    else:\n",
    "                        if i != j:\n",
    "                            y_train.append(1)\n",
    "                        else:\n",
    "                            y_test.append(1)\n",
    "                        for line in f:\n",
    "                            for word in line.split():\n",
    "                                x.add(word)\n",
    "                    x.remove('Subject:')\n",
    "                    if i != j:\n",
    "                        X_train.append(list(x))\n",
    "                    else:\n",
    "                        X_test.append(list(x))\n",
    "\n",
    "        clf = Bayes(delta=delta)\n",
    "        clf.fit(X_train, y_train)\n",
    "        y_pred = clf.predict(X_test)\n",
    "\n",
    "        fp = 0\n",
    "        for i in range(len(y_pred)):\n",
    "            if y_pred[i] == 1 and y_test[i] == 0:\n",
    "                fp += 1\n",
    "\n",
    "        total_fp += fp \n",
    "        \n",
    "    delta[0] *= 10\n",
    "    if total_fp == 0:\n",
    "        break"
   ]
  },
  {
   "cell_type": "code",
   "execution_count": 105,
   "metadata": {},
   "outputs": [
    {
     "data": {
      "text/plain": [
       "[100000000000000000000000000000000000000000000000000, 1]"
      ]
     },
     "execution_count": 105,
     "metadata": {},
     "output_type": "execute_result"
    }
   ],
   "source": [
    "delta"
   ]
  },
  {
   "cell_type": "code",
   "execution_count": 106,
   "metadata": {},
   "outputs": [],
   "source": [
    "final_delta = delta"
   ]
  },
  {
   "cell_type": "code",
   "execution_count": 107,
   "metadata": {},
   "outputs": [],
   "source": [
    "delta = [1, 1]\n",
    "mean_acc = []\n",
    "while delta != final_delta:\n",
    "    for j in range(1, 11):\n",
    "        acc = []\n",
    "        X_train, y_train = [], []\n",
    "        X_test, y_test = [], []\n",
    "        for i in range(1, 11):\n",
    "            folder = 'part' + str(i)\n",
    "            for filename in os.listdir(folder):\n",
    "                with open(folder + '/' + filename, 'r') as f:\n",
    "                    x = set()\n",
    "                    if 'legit' in filename:\n",
    "                        if i != j:\n",
    "                            y_train.append(0)\n",
    "                        else:\n",
    "                            y_test.append(0)\n",
    "                        for line in f:\n",
    "                            for word in line.split():\n",
    "                                x.add(word)\n",
    "                    else:\n",
    "                        if i != j:\n",
    "                            y_train.append(1)\n",
    "                        else:\n",
    "                            y_test.append(1)\n",
    "                        for line in f:\n",
    "                            for word in line.split():\n",
    "                                x.add(word)\n",
    "                    x.remove('Subject:')\n",
    "                    if i != j:\n",
    "                        X_train.append(list(x))\n",
    "                    else:\n",
    "                        X_test.append(list(x))\n",
    "\n",
    "        clf = Bayes(delta=delta)\n",
    "        clf.fit(X_train, y_train)\n",
    "        y_pred = clf.predict(X_test)\n",
    "        acc.append(accuracy_score(y_pred, y_test))\n",
    "        \n",
    "    delta[0] *= 10\n",
    "    mean_acc.append(np.array(acc).mean())"
   ]
  },
  {
   "cell_type": "code",
   "execution_count": 108,
   "metadata": {},
   "outputs": [
    {
     "data": {
      "text/plain": [
       "[<matplotlib.lines.Line2D at 0x16a08d05f60>]"
      ]
     },
     "execution_count": 108,
     "metadata": {},
     "output_type": "execute_result"
    },
    {
     "data": {
      "image/png": "[encoded data removed]",
      "text/plain": [
       "<Figure size 432x288 with 1 Axes>"
      ]
     },
     "metadata": {
      "needs_background": "light"
     },
     "output_type": "display_data"
    }
   ],
   "source": [
    "plt.plot(mean_acc)"
   ]
  },
  {
   "cell_type": "code",
   "execution_count": 111,
   "metadata": {},
   "outputs": [
    {
     "data": {
      "image/png": "[encoded data removed]",
      "text/plain": [
       "<Figure size 432x288 with 1 Axes>"
      ]
     },
     "metadata": {
      "needs_background": "light"
     },
     "output_type": "display_data"
    }
   ],
   "source": [
    "for j in range(1, 11):\n",
    "    X_train, y_train = [], []\n",
    "    X_test, y_test = [], []\n",
    "    for i in range(1, 11):\n",
    "        folder = 'part' + str(i)\n",
    "        for filename in os.listdir(folder):\n",
    "            with open(folder + '/' + filename, 'r') as f:\n",
    "                x = set()\n",
    "                if 'legit' in filename:\n",
    "                    if i != j:\n",
    "                        y_train.append(0)\n",
    "                    else:\n",
    "                        y_test.append(0)\n",
    "                    for line in f:\n",
    "                        for word in line.split():\n",
    "                            x.add(word)\n",
    "                else:\n",
    "                    if i != j:\n",
    "                        y_train.append(1)\n",
    "                    else:\n",
    "                        y_test.append(1)\n",
    "                    for line in f:\n",
    "                        for word in line.split():\n",
    "                            x.add(word)\n",
    "                x.remove('Subject:')\n",
    "                if i != j:\n",
    "                    X_train.append(list(x))\n",
    "                else:\n",
    "                    X_test.append(list(x))\n",
    "    \n",
    "    acc = []\n",
    "    delta = [1, 1]\n",
    "    while delta != final_delta:\n",
    "        clf = Bayes(delta=delta)\n",
    "        clf.fit(X_train, y_train)\n",
    "        y_pred = clf.predict(X_test)\n",
    "        acc.append(accuracy_score(y_pred, y_test))\n",
    "        delta[0] *= 10\n",
    "    plt.plot(acc)"
   ]
  },
  {
   "cell_type": "code",
   "execution_count": null,
   "metadata": {},
   "outputs": [],
   "source": []
  }
 ],
 "metadata": {
  "kernelspec": {
   "display_name": "Python 3",
   "language": "python",
   "name": "python3"
  },
  "language_info": {
   "codemirror_mode": {
    "name": "ipython",
    "version": 3
   },
   "file_extension": ".py",
   "mimetype": "text/x-python",
   "name": "python",
   "nbconvert_exporter": "python",
   "pygments_lexer": "ipython3",
   "version": "3.7.3"
  }
 },
 "nbformat": 4,
 "nbformat_minor": 2
}
